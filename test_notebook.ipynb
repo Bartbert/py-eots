{
 "cells": [
  {
   "cell_type": "code",
   "metadata": {
    "collapsed": true,
    "pycharm": {
     "name": "#%%\n"
    }
   },
   "source": [
    "import pandas as pd\n",
    "from combat_unit import CombatUnit\n",
    "from battle_analyzer import BattleAnalyzer\n",
    "import enums\n",
    "from IPython.display import display, HTML\n",
    "\n",
    "units = pd.read_csv('data/unit_data.csv')\n",
    "units['unit_id'] = units.index\n",
    "\n",
    "an_units = units.loc[units['unit_type'] != 'Ground']\n",
    "\n",
    "allied_units = an_units.loc[an_units['nationality'] != 'Japan']\n",
    "japan_units = an_units.loc[an_units['nationality'] == 'Japan']\n",
    "\n",
    "display(HTML(allied_units.to_html()))\n",
    "display(HTML(japan_units.to_html()))\n",
    "\n",
    "allied_unit_list = [CombatUnit(**kwargs) for kwargs in allied_units.to_dict(orient='records')]\n",
    "japan_unit_list = [CombatUnit(**kwargs) for kwargs in japan_units.to_dict(orient='records')]\n",
    "\n",
    "wasp = next((x for x in allied_unit_list if x.unit_id == 124), None)\n",
    "york = next((x for x in allied_unit_list if x.unit_id == 114), None)\n",
    "\n",
    "allied_forces = [wasp, york]\n",
    "allied_forces[1].is_flipped = False\n",
    "\n",
    "shokaku = next((x for x in japan_unit_list if x.unit_id == 95), None)\n",
    "nagato = next((x for x in japan_unit_list if x.unit_id == 97), None)\n",
    "\n",
    "japan_forces = [shokaku, nagato]\n",
    "japan_forces[0].is_flipped = False\n",
    "\n",
    "for unit in allied_forces:\n",
    "    print(\n",
    "        f'Unit: {unit.unit_name}, Front: {unit.attack_front}, Back: {unit.attack_back}, Defense: {unit.defense}, '\n",
    "        f'CF: {unit.combat_factor()}, Loss Delta: {unit.loss_delta()}, Range: {unit.move_range}')\n",
    "\n",
    "allied_forces_cf = sum(map(lambda x: x.combat_factor(), allied_forces))\n",
    "print(f'Allied CF Total: {allied_forces_cf}')\n",
    "print('')\n",
    "\n",
    "for unit in japan_forces:\n",
    "    print(\n",
    "        f'Unit: {unit.unit_name}, Front: {unit.attack_front}, Back: {unit.attack_back}, Defense: {unit.defense}, '\n",
    "        f'CF: {unit.combat_factor()}, Loss Delta: {unit.loss_delta()}, Range: {unit.move_range}')\n",
    "\n",
    "japan_forces_cf = sum(map(lambda x: x.combat_factor(), japan_forces))\n",
    "print(f'Japan CF Total: {japan_forces_cf}')\n",
    "\n",
    "analyzer = BattleAnalyzer(intel_condition=enums.IntelCondition.INTERCEPT, reaction_player=enums.Player.ALLIES,\n",
    "                          air_power_mod=enums.AirPowerModifier.Y1942, allied_ec_mod=0, japan_ec_mod=0)\n",
    "\n",
    "results = analyzer.analyze_battle(allied_forces, japan_forces)"
   ],
   "execution_count": 2,
   "outputs": [
    {
     "data": {
      "text/plain": "<IPython.core.display.HTML object>",
      "text/html": "<table border=\"1\" class=\"dataframe\">\n  <thead>\n    <tr style=\"text-align: right;\">\n      <th></th>\n      <th>nationality</th>\n      <th>unit_type</th>\n      <th>branch</th>\n      <th>attack_front</th>\n      <th>defense</th>\n      <th>attack_back</th>\n      <th>move_range</th>\n      <th>move_range_extended</th>\n      <th>extended_limit</th>\n      <th>unit_name</th>\n      <th>image_name_front</th>\n      <th>image_name_back</th>\n      <th>unit_id</th>\n    </tr>\n  </thead>\n  <tbody>\n    <tr>\n      <th>45</th>\n      <td>US</td>\n      <td>Air</td>\n      <td>Army</td>\n      <td>8</td>\n      <td>10</td>\n      <td>4.0</td>\n      <td>2.0</td>\n      <td>4.0</td>\n      <td>True</td>\n      <td>FEAF</td>\n      <td>usfeafF.gif</td>\n      <td>usfeafB.gif</td>\n      <td>45</td>\n    </tr>\n    <tr>\n      <th>46</th>\n      <td>US</td>\n      <td>Air</td>\n      <td>Army</td>\n      <td>2</td>\n      <td>9</td>\n      <td>1.0</td>\n      <td>6.0</td>\n      <td>NaN</td>\n      <td>NaN</td>\n      <td>19 AF (LR)</td>\n      <td>us19aflrbF.gif</td>\n      <td>us19aflrbB.gif</td>\n      <td>46</td>\n    </tr>\n    <tr>\n      <th>47</th>\n      <td>US</td>\n      <td>Air</td>\n      <td>Army</td>\n      <td>10</td>\n      <td>10</td>\n      <td>5.0</td>\n      <td>2.0</td>\n      <td>4.0</td>\n      <td>False</td>\n      <td>5 AF</td>\n      <td>us5afF.gif</td>\n      <td>us5afB.gif</td>\n      <td>47</td>\n    </tr>\n    <tr>\n      <th>48</th>\n      <td>US</td>\n      <td>Air</td>\n      <td>Army</td>\n      <td>10</td>\n      <td>10</td>\n      <td>5.0</td>\n      <td>2.0</td>\n      <td>4.0</td>\n      <td>False</td>\n      <td>7 AF</td>\n      <td>us7afF.gif</td>\n      <td>us7afB.gif</td>\n      <td>48</td>\n    </tr>\n    <tr>\n      <th>49</th>\n      <td>US</td>\n      <td>Air</td>\n      <td>Army</td>\n      <td>10</td>\n      <td>10</td>\n      <td>5.0</td>\n      <td>2.0</td>\n      <td>4.0</td>\n      <td>False</td>\n      <td>11 AF</td>\n      <td>us11afF.gif</td>\n      <td>us11afB.gif</td>\n      <td>49</td>\n    </tr>\n    <tr>\n      <th>50</th>\n      <td>US</td>\n      <td>Air</td>\n      <td>Army</td>\n      <td>10</td>\n      <td>10</td>\n      <td>5.0</td>\n      <td>2.0</td>\n      <td>4.0</td>\n      <td>False</td>\n      <td>13 AF</td>\n      <td>us13afF.gif</td>\n      <td>us13afB.gif</td>\n      <td>50</td>\n    </tr>\n    <tr>\n      <th>51</th>\n      <td>US</td>\n      <td>Air</td>\n      <td>Army</td>\n      <td>4</td>\n      <td>10</td>\n      <td>2.0</td>\n      <td>6.0</td>\n      <td>NaN</td>\n      <td>False</td>\n      <td>5 AF (LR)</td>\n      <td>us5aflrbF.gif</td>\n      <td>us5aflrbB.gif</td>\n      <td>51</td>\n    </tr>\n    <tr>\n      <th>52</th>\n      <td>US</td>\n      <td>Air</td>\n      <td>Army</td>\n      <td>4</td>\n      <td>10</td>\n      <td>2.0</td>\n      <td>6.0</td>\n      <td>NaN</td>\n      <td>False</td>\n      <td>7 AF (LR)</td>\n      <td>us7aflrbF.gif</td>\n      <td>us7aflrbB.gif</td>\n      <td>52</td>\n    </tr>\n    <tr>\n      <th>53</th>\n      <td>US</td>\n      <td>Air</td>\n      <td>Army</td>\n      <td>4</td>\n      <td>10</td>\n      <td>2.0</td>\n      <td>6.0</td>\n      <td>NaN</td>\n      <td>False</td>\n      <td>10 AF (LR)</td>\n      <td>us10aflrbF.gif</td>\n      <td>us10aflrbB.gif</td>\n      <td>53</td>\n    </tr>\n    <tr>\n      <th>54</th>\n      <td>US</td>\n      <td>Air</td>\n      <td>Army</td>\n      <td>4</td>\n      <td>10</td>\n      <td>2.0</td>\n      <td>6.0</td>\n      <td>NaN</td>\n      <td>False</td>\n      <td>11 AF (LR)</td>\n      <td>us11aflrbF.gif</td>\n      <td>us11aflrbB.gif</td>\n      <td>54</td>\n    </tr>\n    <tr>\n      <th>55</th>\n      <td>US</td>\n      <td>Air</td>\n      <td>Army</td>\n      <td>4</td>\n      <td>10</td>\n      <td>2.0</td>\n      <td>6.0</td>\n      <td>NaN</td>\n      <td>False</td>\n      <td>13 AF (LR)</td>\n      <td>us13aflrbF.gif</td>\n      <td>us13aflrbB.gif</td>\n      <td>55</td>\n    </tr>\n    <tr>\n      <th>56</th>\n      <td>US</td>\n      <td>Air</td>\n      <td>Army</td>\n      <td>4</td>\n      <td>10</td>\n      <td>2.0</td>\n      <td>6.0</td>\n      <td>NaN</td>\n      <td>False</td>\n      <td>14 AF (LR)</td>\n      <td>us14aflrbF.gif</td>\n      <td>us14aflrbB.gif</td>\n      <td>56</td>\n    </tr>\n    <tr>\n      <th>57</th>\n      <td>US</td>\n      <td>Air</td>\n      <td>Army</td>\n      <td>6</td>\n      <td>10</td>\n      <td>3.0</td>\n      <td>8.0</td>\n      <td>NaN</td>\n      <td>False</td>\n      <td>20 BC</td>\n      <td>us20bcF.gif</td>\n      <td>us20bcB.gif</td>\n      <td>57</td>\n    </tr>\n    <tr>\n      <th>58</th>\n      <td>US</td>\n      <td>Air</td>\n      <td>Army</td>\n      <td>6</td>\n      <td>10</td>\n      <td>3.0</td>\n      <td>8.0</td>\n      <td>NaN</td>\n      <td>False</td>\n      <td>21 BC</td>\n      <td>us21bcF.gif</td>\n      <td>us21bcB.gif</td>\n      <td>58</td>\n    </tr>\n    <tr>\n      <th>59</th>\n      <td>US</td>\n      <td>Air</td>\n      <td>Army</td>\n      <td>9</td>\n      <td>10</td>\n      <td>6.0</td>\n      <td>2.0</td>\n      <td>4.0</td>\n      <td>False</td>\n      <td>14 AF</td>\n      <td>us14afF.gif</td>\n      <td>us14afB.gif</td>\n      <td>59</td>\n    </tr>\n    <tr>\n      <th>60</th>\n      <td>US</td>\n      <td>Air</td>\n      <td>Army</td>\n      <td>6</td>\n      <td>10</td>\n      <td>5.0</td>\n      <td>2.0</td>\n      <td>4.0</td>\n      <td>True</td>\n      <td>AVG</td>\n      <td>usavgafF.gif</td>\n      <td>usavgafB.gif</td>\n      <td>60</td>\n    </tr>\n    <tr>\n      <th>61</th>\n      <td>UK</td>\n      <td>Air</td>\n      <td>Army</td>\n      <td>10</td>\n      <td>10</td>\n      <td>5.0</td>\n      <td>2.0</td>\n      <td>4.0</td>\n      <td>True</td>\n      <td>Aus AF</td>\n      <td>ukausafF.gif</td>\n      <td>ukausafB.gif</td>\n      <td>61</td>\n    </tr>\n    <tr>\n      <th>62</th>\n      <td>UK</td>\n      <td>Air</td>\n      <td>Army</td>\n      <td>10</td>\n      <td>10</td>\n      <td>5.0</td>\n      <td>2.0</td>\n      <td>4.0</td>\n      <td>False</td>\n      <td>SEAC</td>\n      <td>ukseacafF.gif</td>\n      <td>ukseacafB.gif</td>\n      <td>62</td>\n    </tr>\n    <tr>\n      <th>63</th>\n      <td>UK</td>\n      <td>Air</td>\n      <td>Army</td>\n      <td>4</td>\n      <td>10</td>\n      <td>2.0</td>\n      <td>6.0</td>\n      <td>NaN</td>\n      <td>False</td>\n      <td>SEAC (LR)</td>\n      <td>ukseaclrbF.gif</td>\n      <td>ukseaclrbB.gif</td>\n      <td>63</td>\n    </tr>\n    <tr>\n      <th>64</th>\n      <td>UK</td>\n      <td>Air</td>\n      <td>Army</td>\n      <td>7</td>\n      <td>9</td>\n      <td>4.0</td>\n      <td>2.0</td>\n      <td>4.0</td>\n      <td>True</td>\n      <td>FE AF</td>\n      <td>ukfeafF.gif</td>\n      <td>ukfeafB.gif</td>\n      <td>64</td>\n    </tr>\n    <tr>\n      <th>65</th>\n      <td>UK</td>\n      <td>Air</td>\n      <td>Army</td>\n      <td>6</td>\n      <td>9</td>\n      <td>3.0</td>\n      <td>2.0</td>\n      <td>4.0</td>\n      <td>True</td>\n      <td>MA AF</td>\n      <td>ukmaafF.gif</td>\n      <td>ukmaafB.gif</td>\n      <td>65</td>\n    </tr>\n    <tr>\n      <th>82</th>\n      <td>US</td>\n      <td>Air</td>\n      <td>Navy</td>\n      <td>1</td>\n      <td>8</td>\n      <td>NaN</td>\n      <td>2.0</td>\n      <td>4.0</td>\n      <td>True</td>\n      <td>211 MA</td>\n      <td>us211maF.gif</td>\n      <td>us marker9.gif</td>\n      <td>82</td>\n    </tr>\n    <tr>\n      <th>83</th>\n      <td>US</td>\n      <td>Air</td>\n      <td>Navy</td>\n      <td>6</td>\n      <td>10</td>\n      <td>3.0</td>\n      <td>2.0</td>\n      <td>4.0</td>\n      <td>True</td>\n      <td>1 MAW</td>\n      <td>usa1mawF.gif</td>\n      <td>usa1mawB.gif</td>\n      <td>83</td>\n    </tr>\n    <tr>\n      <th>84</th>\n      <td>US</td>\n      <td>Air</td>\n      <td>Navy</td>\n      <td>8</td>\n      <td>10</td>\n      <td>6.0</td>\n      <td>2.0</td>\n      <td>4.0</td>\n      <td>True</td>\n      <td>2 MAW</td>\n      <td>usa2mawF.gif</td>\n      <td>usa2mawB.gif</td>\n      <td>84</td>\n    </tr>\n    <tr>\n      <th>85</th>\n      <td>US</td>\n      <td>Air</td>\n      <td>Navy</td>\n      <td>10</td>\n      <td>10</td>\n      <td>8.0</td>\n      <td>2.0</td>\n      <td>4.0</td>\n      <td>True</td>\n      <td>3 MAW</td>\n      <td>usa3mawF.gif</td>\n      <td>usa3mawB.gif</td>\n      <td>85</td>\n    </tr>\n    <tr>\n      <th>110</th>\n      <td>UK</td>\n      <td>Naval</td>\n      <td>Navy</td>\n      <td>8</td>\n      <td>10</td>\n      <td>4.0</td>\n      <td>NaN</td>\n      <td>NaN</td>\n      <td>NaN</td>\n      <td>Force Z (BB)</td>\n      <td>forcezF.gif</td>\n      <td>forcezB.gif</td>\n      <td>110</td>\n    </tr>\n    <tr>\n      <th>111</th>\n      <td>UK</td>\n      <td>Naval</td>\n      <td>Navy</td>\n      <td>3</td>\n      <td>8</td>\n      <td>2.0</td>\n      <td>NaN</td>\n      <td>NaN</td>\n      <td>NaN</td>\n      <td>Kent (CA)</td>\n      <td>KentF.gif</td>\n      <td>KentB.gif</td>\n      <td>111</td>\n    </tr>\n    <tr>\n      <th>112</th>\n      <td>Dutch</td>\n      <td>Naval</td>\n      <td>Navy</td>\n      <td>3</td>\n      <td>8</td>\n      <td>2.0</td>\n      <td>NaN</td>\n      <td>NaN</td>\n      <td>NaN</td>\n      <td>Dutch (CL)</td>\n      <td>dutchclF.gif</td>\n      <td>dutchclB.gif</td>\n      <td>112</td>\n    </tr>\n    <tr>\n      <th>113</th>\n      <td>UK</td>\n      <td>Naval</td>\n      <td>Navy</td>\n      <td>5</td>\n      <td>8</td>\n      <td>3.0</td>\n      <td>NaN</td>\n      <td>NaN</td>\n      <td>NaN</td>\n      <td>Exeter (CA)</td>\n      <td>exeterF.gif</td>\n      <td>exeterB.gif</td>\n      <td>113</td>\n    </tr>\n    <tr>\n      <th>114</th>\n      <td>UK</td>\n      <td>Naval</td>\n      <td>Navy</td>\n      <td>20</td>\n      <td>16</td>\n      <td>10.0</td>\n      <td>NaN</td>\n      <td>NaN</td>\n      <td>NaN</td>\n      <td>Duke of York (BB)</td>\n      <td>dukeOfyorkF.gif</td>\n      <td>dukeOfyorkB.gif</td>\n      <td>114</td>\n    </tr>\n    <tr>\n      <th>115</th>\n      <td>UK</td>\n      <td>Naval</td>\n      <td>Navy</td>\n      <td>10</td>\n      <td>12</td>\n      <td>5.0</td>\n      <td>2.0</td>\n      <td>NaN</td>\n      <td>NaN</td>\n      <td>Indomitable (CV)</td>\n      <td>indomitableF.gif</td>\n      <td>idomitableB.gif</td>\n      <td>115</td>\n    </tr>\n    <tr>\n      <th>116</th>\n      <td>UK</td>\n      <td>Naval</td>\n      <td>Navy</td>\n      <td>14</td>\n      <td>14</td>\n      <td>7.0</td>\n      <td>NaN</td>\n      <td>NaN</td>\n      <td>NaN</td>\n      <td>Warspite (BB)</td>\n      <td>warspiteF.gif</td>\n      <td>warspiteB.gif</td>\n      <td>116</td>\n    </tr>\n    <tr>\n      <th>117</th>\n      <td>UK</td>\n      <td>Naval</td>\n      <td>Navy</td>\n      <td>2</td>\n      <td>8</td>\n      <td>NaN</td>\n      <td>0.0</td>\n      <td>NaN</td>\n      <td>NaN</td>\n      <td>Hermes (CVL)</td>\n      <td>hermesF.gif</td>\n      <td>flag2.png</td>\n      <td>117</td>\n    </tr>\n    <tr>\n      <th>118</th>\n      <td>UK</td>\n      <td>Naval</td>\n      <td>Navy</td>\n      <td>6</td>\n      <td>8</td>\n      <td>3.0</td>\n      <td>NaN</td>\n      <td>NaN</td>\n      <td>NaN</td>\n      <td>London (CA)</td>\n      <td>londonF.gif</td>\n      <td>londonB.gif</td>\n      <td>118</td>\n    </tr>\n    <tr>\n      <th>119</th>\n      <td>UK</td>\n      <td>Naval</td>\n      <td>Navy</td>\n      <td>12</td>\n      <td>14</td>\n      <td>6.0</td>\n      <td>2.0</td>\n      <td>NaN</td>\n      <td>NaN</td>\n      <td>Victorious (CV)</td>\n      <td>victoriousF.gif</td>\n      <td>victoriousB.gif</td>\n      <td>119</td>\n    </tr>\n    <tr>\n      <th>120</th>\n      <td>US</td>\n      <td>Naval</td>\n      <td>Navy</td>\n      <td>2</td>\n      <td>4</td>\n      <td>1.0</td>\n      <td>NaN</td>\n      <td>NaN</td>\n      <td>NaN</td>\n      <td>US Asia (DD)</td>\n      <td>usasiaddF.gif</td>\n      <td>usasiaddB.gif</td>\n      <td>120</td>\n    </tr>\n    <tr>\n      <th>121</th>\n      <td>US</td>\n      <td>Naval</td>\n      <td>Navy</td>\n      <td>4</td>\n      <td>6</td>\n      <td>2.0</td>\n      <td>NaN</td>\n      <td>NaN</td>\n      <td>NaN</td>\n      <td>US Asia (CA)</td>\n      <td>usasiacaF.gif</td>\n      <td>usasiacaB.gif</td>\n      <td>121</td>\n    </tr>\n    <tr>\n      <th>122</th>\n      <td>US</td>\n      <td>Naval</td>\n      <td>Navy</td>\n      <td>12</td>\n      <td>12</td>\n      <td>8.0</td>\n      <td>2.0</td>\n      <td>NaN</td>\n      <td>NaN</td>\n      <td>Enterprise (CV)</td>\n      <td>EnterpriseF.gif</td>\n      <td>EnterpriseB.gif</td>\n      <td>122</td>\n    </tr>\n    <tr>\n      <th>123</th>\n      <td>US</td>\n      <td>Naval</td>\n      <td>Navy</td>\n      <td>12</td>\n      <td>12</td>\n      <td>8.0</td>\n      <td>2.0</td>\n      <td>NaN</td>\n      <td>NaN</td>\n      <td>Lexington (CV)</td>\n      <td>LexingtonF.gif</td>\n      <td>LexingtonB.gif</td>\n      <td>123</td>\n    </tr>\n    <tr>\n      <th>124</th>\n      <td>US</td>\n      <td>Naval</td>\n      <td>Navy</td>\n      <td>12</td>\n      <td>12</td>\n      <td>8.0</td>\n      <td>2.0</td>\n      <td>NaN</td>\n      <td>NaN</td>\n      <td>Wasp (CV)</td>\n      <td>WaspF.gif</td>\n      <td>WaspB.gif</td>\n      <td>124</td>\n    </tr>\n    <tr>\n      <th>125</th>\n      <td>US</td>\n      <td>Naval</td>\n      <td>Navy</td>\n      <td>15</td>\n      <td>10</td>\n      <td>9.0</td>\n      <td>NaN</td>\n      <td>NaN</td>\n      <td>NaN</td>\n      <td>MD/CA (BB)</td>\n      <td>usmdcaF.gif</td>\n      <td>usmdcaB.gif</td>\n      <td>125</td>\n    </tr>\n    <tr>\n      <th>126</th>\n      <td>US</td>\n      <td>Naval</td>\n      <td>Navy</td>\n      <td>15</td>\n      <td>12</td>\n      <td>7.0</td>\n      <td>NaN</td>\n      <td>NaN</td>\n      <td>NaN</td>\n      <td>Miss. (BB)</td>\n      <td>missF.gif</td>\n      <td>missB.gif</td>\n      <td>126</td>\n    </tr>\n    <tr>\n      <th>127</th>\n      <td>US</td>\n      <td>Naval</td>\n      <td>Navy</td>\n      <td>9</td>\n      <td>8</td>\n      <td>6.0</td>\n      <td>NaN</td>\n      <td>NaN</td>\n      <td>NaN</td>\n      <td>Northampton (CA)</td>\n      <td>NorthamptonF.gif</td>\n      <td>NorthamptonB.gif</td>\n      <td>127</td>\n    </tr>\n    <tr>\n      <th>128</th>\n      <td>US</td>\n      <td>Naval</td>\n      <td>Navy</td>\n      <td>9</td>\n      <td>8</td>\n      <td>6.0</td>\n      <td>NaN</td>\n      <td>NaN</td>\n      <td>NaN</td>\n      <td>N. Orleans (CA)</td>\n      <td>norleansF.gif</td>\n      <td>norleansB.gif</td>\n      <td>128</td>\n    </tr>\n    <tr>\n      <th>129</th>\n      <td>US</td>\n      <td>Naval</td>\n      <td>Navy</td>\n      <td>16</td>\n      <td>16</td>\n      <td>8.0</td>\n      <td>NaN</td>\n      <td>NaN</td>\n      <td>NaN</td>\n      <td>Mass (BB)</td>\n      <td>MassF.gif</td>\n      <td>MassB.gif</td>\n      <td>129</td>\n    </tr>\n    <tr>\n      <th>130</th>\n      <td>US</td>\n      <td>Naval</td>\n      <td>Navy</td>\n      <td>16</td>\n      <td>16</td>\n      <td>8.0</td>\n      <td>NaN</td>\n      <td>NaN</td>\n      <td>NaN</td>\n      <td>N Carolina (BB)</td>\n      <td>NCarolinaF.gif</td>\n      <td>NCarolinaB.gif</td>\n      <td>130</td>\n    </tr>\n    <tr>\n      <th>131</th>\n      <td>US</td>\n      <td>Naval</td>\n      <td>Navy</td>\n      <td>16</td>\n      <td>16</td>\n      <td>8.0</td>\n      <td>NaN</td>\n      <td>NaN</td>\n      <td>NaN</td>\n      <td>Washington (BB)</td>\n      <td>WashingtonF.gif</td>\n      <td>WashingtonB.gif</td>\n      <td>131</td>\n    </tr>\n    <tr>\n      <th>132</th>\n      <td>US</td>\n      <td>Naval</td>\n      <td>Navy</td>\n      <td>16</td>\n      <td>16</td>\n      <td>8.0</td>\n      <td>NaN</td>\n      <td>NaN</td>\n      <td>NaN</td>\n      <td>New Jersy (BB)</td>\n      <td>newjerseyF.gif</td>\n      <td>newjerseyB.gif</td>\n      <td>132</td>\n    </tr>\n    <tr>\n      <th>133</th>\n      <td>US</td>\n      <td>Naval</td>\n      <td>Navy</td>\n      <td>16</td>\n      <td>16</td>\n      <td>8.0</td>\n      <td>NaN</td>\n      <td>NaN</td>\n      <td>NaN</td>\n      <td>New York (BB)</td>\n      <td>newyorkF.gif</td>\n      <td>newyorkB.gif</td>\n      <td>133</td>\n    </tr>\n    <tr>\n      <th>134</th>\n      <td>US</td>\n      <td>Naval</td>\n      <td>Navy</td>\n      <td>16</td>\n      <td>16</td>\n      <td>8.0</td>\n      <td>NaN</td>\n      <td>NaN</td>\n      <td>NaN</td>\n      <td>Missouri (BB)</td>\n      <td>missouriF.gif</td>\n      <td>missouriB.gif</td>\n      <td>134</td>\n    </tr>\n    <tr>\n      <th>135</th>\n      <td>US</td>\n      <td>Naval</td>\n      <td>Navy</td>\n      <td>10</td>\n      <td>10</td>\n      <td>7.0</td>\n      <td>2.0</td>\n      <td>NaN</td>\n      <td>NaN</td>\n      <td>Belleau Wood (CVL)</td>\n      <td>BelleauWoodF.gif</td>\n      <td>BelleauWoodB.gif</td>\n      <td>135</td>\n    </tr>\n    <tr>\n      <th>136</th>\n      <td>US</td>\n      <td>Naval</td>\n      <td>Navy</td>\n      <td>10</td>\n      <td>10</td>\n      <td>7.0</td>\n      <td>2.0</td>\n      <td>NaN</td>\n      <td>NaN</td>\n      <td>Cowpens (CVL)</td>\n      <td>CowpensF.gif</td>\n      <td>CowpensB.gif</td>\n      <td>136</td>\n    </tr>\n    <tr>\n      <th>137</th>\n      <td>US</td>\n      <td>Naval</td>\n      <td>Navy</td>\n      <td>10</td>\n      <td>10</td>\n      <td>7.0</td>\n      <td>2.0</td>\n      <td>NaN</td>\n      <td>NaN</td>\n      <td>San Jacinto (CVL)</td>\n      <td>SanJacintoF.gif</td>\n      <td>SanJacintoB.gif</td>\n      <td>137</td>\n    </tr>\n    <tr>\n      <th>138</th>\n      <td>US</td>\n      <td>Naval</td>\n      <td>Navy</td>\n      <td>10</td>\n      <td>10</td>\n      <td>7.0</td>\n      <td>2.0</td>\n      <td>NaN</td>\n      <td>NaN</td>\n      <td>Bataan (CVL)</td>\n      <td>bataanF.gif</td>\n      <td>bataanB.gif</td>\n      <td>138</td>\n    </tr>\n    <tr>\n      <th>139</th>\n      <td>US</td>\n      <td>Naval</td>\n      <td>Navy</td>\n      <td>14</td>\n      <td>14</td>\n      <td>10.0</td>\n      <td>2.0</td>\n      <td>NaN</td>\n      <td>NaN</td>\n      <td>Bunker Hill (CV)</td>\n      <td>BunkerHillF.gif</td>\n      <td>BunkerHillB.gif</td>\n      <td>139</td>\n    </tr>\n    <tr>\n      <th>140</th>\n      <td>US</td>\n      <td>Naval</td>\n      <td>Navy</td>\n      <td>14</td>\n      <td>14</td>\n      <td>10.0</td>\n      <td>2.0</td>\n      <td>NaN</td>\n      <td>NaN</td>\n      <td>Essex (CV)</td>\n      <td>EssexF.gif</td>\n      <td>EssexB.gif</td>\n      <td>140</td>\n    </tr>\n    <tr>\n      <th>141</th>\n      <td>US</td>\n      <td>Naval</td>\n      <td>Navy</td>\n      <td>14</td>\n      <td>14</td>\n      <td>10.0</td>\n      <td>2.0</td>\n      <td>NaN</td>\n      <td>NaN</td>\n      <td>Intrepid (CV)</td>\n      <td>intrepidF.gif</td>\n      <td>intrepidB.gif</td>\n      <td>141</td>\n    </tr>\n    <tr>\n      <th>142</th>\n      <td>US</td>\n      <td>Naval</td>\n      <td>Navy</td>\n      <td>14</td>\n      <td>14</td>\n      <td>10.0</td>\n      <td>2.0</td>\n      <td>NaN</td>\n      <td>NaN</td>\n      <td>Franklin (CV)</td>\n      <td>franklinF.gif</td>\n      <td>franklinB.gif</td>\n      <td>142</td>\n    </tr>\n    <tr>\n      <th>143</th>\n      <td>US</td>\n      <td>Naval</td>\n      <td>Navy</td>\n      <td>14</td>\n      <td>14</td>\n      <td>10.0</td>\n      <td>2.0</td>\n      <td>NaN</td>\n      <td>NaN</td>\n      <td>Hancock (CV)</td>\n      <td>hancockF.gif</td>\n      <td>hancockB.gif</td>\n      <td>143</td>\n    </tr>\n    <tr>\n      <th>144</th>\n      <td>US</td>\n      <td>Naval</td>\n      <td>Navy</td>\n      <td>14</td>\n      <td>14</td>\n      <td>10.0</td>\n      <td>2.0</td>\n      <td>NaN</td>\n      <td>NaN</td>\n      <td>Shangri La (CV)</td>\n      <td>shangrilaF.gif</td>\n      <td>shangrilaB.gif</td>\n      <td>144</td>\n    </tr>\n    <tr>\n      <th>145</th>\n      <td>US</td>\n      <td>Naval</td>\n      <td>Navy</td>\n      <td>14</td>\n      <td>14</td>\n      <td>10.0</td>\n      <td>2.0</td>\n      <td>NaN</td>\n      <td>NaN</td>\n      <td>B.H. Richard (CV)</td>\n      <td>bhrichardF.gif</td>\n      <td>bhrichardB.gif</td>\n      <td>145</td>\n    </tr>\n    <tr>\n      <th>146</th>\n      <td>US</td>\n      <td>Naval</td>\n      <td>Navy</td>\n      <td>6</td>\n      <td>8</td>\n      <td>3.0</td>\n      <td>2.0</td>\n      <td>NaN</td>\n      <td>NaN</td>\n      <td>Sangamon (CVE)</td>\n      <td>SangamonF.gif</td>\n      <td>SangamonB.gif</td>\n      <td>146</td>\n    </tr>\n    <tr>\n      <th>147</th>\n      <td>US</td>\n      <td>Naval</td>\n      <td>Navy</td>\n      <td>6</td>\n      <td>8</td>\n      <td>3.0</td>\n      <td>2.0</td>\n      <td>NaN</td>\n      <td>NaN</td>\n      <td>Casablanca (CVE)</td>\n      <td>casablancaF.gif</td>\n      <td>casablancaB.gif</td>\n      <td>147</td>\n    </tr>\n    <tr>\n      <th>148</th>\n      <td>US</td>\n      <td>Naval</td>\n      <td>Navy</td>\n      <td>6</td>\n      <td>8</td>\n      <td>3.0</td>\n      <td>2.0</td>\n      <td>NaN</td>\n      <td>NaN</td>\n      <td>St. Lo (CVE)</td>\n      <td>stloF.gif</td>\n      <td>stloB.gif</td>\n      <td>148</td>\n    </tr>\n    <tr>\n      <th>149</th>\n      <td>US</td>\n      <td>Naval</td>\n      <td>Navy</td>\n      <td>6</td>\n      <td>8</td>\n      <td>3.0</td>\n      <td>2.0</td>\n      <td>NaN</td>\n      <td>NaN</td>\n      <td>C. Bay (CVE)</td>\n      <td>cbayF.gif</td>\n      <td>cbayB.gif</td>\n      <td>149</td>\n    </tr>\n    <tr>\n      <th>150</th>\n      <td>US</td>\n      <td>Naval</td>\n      <td>Navy</td>\n      <td>10</td>\n      <td>12</td>\n      <td>5.0</td>\n      <td>NaN</td>\n      <td>NaN</td>\n      <td>NaN</td>\n      <td>Alaska (BC)</td>\n      <td>alaskaF.gif</td>\n      <td>alaskaB.gif</td>\n      <td>150</td>\n    </tr>\n    <tr>\n      <th>151</th>\n      <td>US</td>\n      <td>Naval</td>\n      <td>Navy</td>\n      <td>8</td>\n      <td>10</td>\n      <td>4.0</td>\n      <td>NaN</td>\n      <td>NaN</td>\n      <td>NaN</td>\n      <td>Baltimore (CA)</td>\n      <td>baltimoreF.gif</td>\n      <td>baltimoreB.gif</td>\n      <td>151</td>\n    </tr>\n  </tbody>\n</table>"
     },
     "metadata": {},
     "output_type": "display_data"
    },
    {
     "data": {
      "text/plain": "<IPython.core.display.HTML object>",
      "text/html": "<table border=\"1\" class=\"dataframe\">\n  <thead>\n    <tr style=\"text-align: right;\">\n      <th></th>\n      <th>nationality</th>\n      <th>unit_type</th>\n      <th>branch</th>\n      <th>attack_front</th>\n      <th>defense</th>\n      <th>attack_back</th>\n      <th>move_range</th>\n      <th>move_range_extended</th>\n      <th>extended_limit</th>\n      <th>unit_name</th>\n      <th>image_name_front</th>\n      <th>image_name_back</th>\n      <th>unit_id</th>\n    </tr>\n  </thead>\n  <tbody>\n    <tr>\n      <th>7</th>\n      <td>Japan</td>\n      <td>Air</td>\n      <td>Army</td>\n      <td>20</td>\n      <td>10</td>\n      <td>10.0</td>\n      <td>2.0</td>\n      <td>4.0</td>\n      <td>False</td>\n      <td>1 AD</td>\n      <td>jpn1adF.gif</td>\n      <td>jpn1adB.gif</td>\n      <td>7</td>\n    </tr>\n    <tr>\n      <th>8</th>\n      <td>Japan</td>\n      <td>Air</td>\n      <td>Army</td>\n      <td>20</td>\n      <td>10</td>\n      <td>10.0</td>\n      <td>2.0</td>\n      <td>4.0</td>\n      <td>False</td>\n      <td>2 AD</td>\n      <td>jpn2adF.gif</td>\n      <td>jpn2adB.gif</td>\n      <td>8</td>\n    </tr>\n    <tr>\n      <th>9</th>\n      <td>Japan</td>\n      <td>Air</td>\n      <td>Army</td>\n      <td>20</td>\n      <td>10</td>\n      <td>10.0</td>\n      <td>2.0</td>\n      <td>4.0</td>\n      <td>False</td>\n      <td>3 AD</td>\n      <td>jpn3adF.gif</td>\n      <td>jpn3adB.gif</td>\n      <td>9</td>\n    </tr>\n    <tr>\n      <th>10</th>\n      <td>Japan</td>\n      <td>Air</td>\n      <td>Army</td>\n      <td>20</td>\n      <td>10</td>\n      <td>10.0</td>\n      <td>2.0</td>\n      <td>4.0</td>\n      <td>False</td>\n      <td>4 AD</td>\n      <td>jpn4adF.gif</td>\n      <td>jpn4adB.gif</td>\n      <td>10</td>\n    </tr>\n    <tr>\n      <th>11</th>\n      <td>Japan</td>\n      <td>Air</td>\n      <td>Army</td>\n      <td>22</td>\n      <td>10</td>\n      <td>11.0</td>\n      <td>2.0</td>\n      <td>4.0</td>\n      <td>False</td>\n      <td>5 AD</td>\n      <td>jpn5adF.gif</td>\n      <td>jpn5adB.gif</td>\n      <td>11</td>\n    </tr>\n    <tr>\n      <th>12</th>\n      <td>Japan</td>\n      <td>Air</td>\n      <td>Army</td>\n      <td>8</td>\n      <td>10</td>\n      <td>4.0</td>\n      <td>2.0</td>\n      <td>4.0</td>\n      <td>False</td>\n      <td>6 AD</td>\n      <td>jpn6adF.gif</td>\n      <td>jpn6adB.gif</td>\n      <td>12</td>\n    </tr>\n    <tr>\n      <th>13</th>\n      <td>Japan</td>\n      <td>Air</td>\n      <td>Army</td>\n      <td>8</td>\n      <td>10</td>\n      <td>4.0</td>\n      <td>2.0</td>\n      <td>4.0</td>\n      <td>False</td>\n      <td>7 AD</td>\n      <td>jpn7adF.gif</td>\n      <td>jpn7adB.gif</td>\n      <td>13</td>\n    </tr>\n    <tr>\n      <th>14</th>\n      <td>Japan</td>\n      <td>Air</td>\n      <td>Army</td>\n      <td>8</td>\n      <td>10</td>\n      <td>4.0</td>\n      <td>2.0</td>\n      <td>4.0</td>\n      <td>False</td>\n      <td>8 AD</td>\n      <td>jpn8adF.gif</td>\n      <td>jpn8adB.gif</td>\n      <td>14</td>\n    </tr>\n    <tr>\n      <th>15</th>\n      <td>Japan</td>\n      <td>Air</td>\n      <td>Army</td>\n      <td>8</td>\n      <td>10</td>\n      <td>4.0</td>\n      <td>2.0</td>\n      <td>4.0</td>\n      <td>False</td>\n      <td>9 AD</td>\n      <td>jpn9adF.gif</td>\n      <td>jpn9adB.gif</td>\n      <td>15</td>\n    </tr>\n    <tr>\n      <th>16</th>\n      <td>Japan</td>\n      <td>Air</td>\n      <td>Army</td>\n      <td>8</td>\n      <td>10</td>\n      <td>4.0</td>\n      <td>2.0</td>\n      <td>4.0</td>\n      <td>False</td>\n      <td>10 AD</td>\n      <td>jpn10adF.gif</td>\n      <td>jpn10adB.gif</td>\n      <td>16</td>\n    </tr>\n    <tr>\n      <th>17</th>\n      <td>Japan</td>\n      <td>Air</td>\n      <td>Army</td>\n      <td>6</td>\n      <td>10</td>\n      <td>3.0</td>\n      <td>2.0</td>\n      <td>4.0</td>\n      <td>False</td>\n      <td>11 AD</td>\n      <td>jpn11adF.gif</td>\n      <td>jpn11adB.gif</td>\n      <td>17</td>\n    </tr>\n    <tr>\n      <th>18</th>\n      <td>Japan</td>\n      <td>Air</td>\n      <td>Army</td>\n      <td>6</td>\n      <td>10</td>\n      <td>3.0</td>\n      <td>2.0</td>\n      <td>4.0</td>\n      <td>False</td>\n      <td>12 AD</td>\n      <td>jpn12adF.gif</td>\n      <td>jpn12adB.gif</td>\n      <td>18</td>\n    </tr>\n    <tr>\n      <th>19</th>\n      <td>Japan</td>\n      <td>Air</td>\n      <td>Army</td>\n      <td>8</td>\n      <td>10</td>\n      <td>6.0</td>\n      <td>4.0</td>\n      <td>5.0</td>\n      <td>True</td>\n      <td>T AD</td>\n      <td>jpnTadF.gif</td>\n      <td>jpnTadB.gif</td>\n      <td>19</td>\n    </tr>\n    <tr>\n      <th>20</th>\n      <td>Japan</td>\n      <td>Air</td>\n      <td>Navy</td>\n      <td>16</td>\n      <td>10</td>\n      <td>8.0</td>\n      <td>3.0</td>\n      <td>5.0</td>\n      <td>False</td>\n      <td>21 AF</td>\n      <td>jpn21afF.gif</td>\n      <td>jpn21afB.gif</td>\n      <td>20</td>\n    </tr>\n    <tr>\n      <th>21</th>\n      <td>Japan</td>\n      <td>Air</td>\n      <td>Navy</td>\n      <td>20</td>\n      <td>10</td>\n      <td>10.0</td>\n      <td>3.0</td>\n      <td>5.0</td>\n      <td>False</td>\n      <td>22 AF</td>\n      <td>jpn22afF.gif</td>\n      <td>jpn22afB.gif</td>\n      <td>21</td>\n    </tr>\n    <tr>\n      <th>22</th>\n      <td>Japan</td>\n      <td>Air</td>\n      <td>Navy</td>\n      <td>16</td>\n      <td>10</td>\n      <td>8.0</td>\n      <td>3.0</td>\n      <td>5.0</td>\n      <td>False</td>\n      <td>23 AF</td>\n      <td>jpn23afF.gif</td>\n      <td>jpn23afB.gif</td>\n      <td>22</td>\n    </tr>\n    <tr>\n      <th>23</th>\n      <td>Japan</td>\n      <td>Air</td>\n      <td>Navy</td>\n      <td>10</td>\n      <td>10</td>\n      <td>5.0</td>\n      <td>3.0</td>\n      <td>5.0</td>\n      <td>False</td>\n      <td>24 AF</td>\n      <td>jpn24afF.gif</td>\n      <td>jpn24afB.gif</td>\n      <td>23</td>\n    </tr>\n    <tr>\n      <th>24</th>\n      <td>Japan</td>\n      <td>Air</td>\n      <td>Navy</td>\n      <td>10</td>\n      <td>10</td>\n      <td>5.0</td>\n      <td>3.0</td>\n      <td>5.0</td>\n      <td>False</td>\n      <td>25 AF</td>\n      <td>jpn25afF.gif</td>\n      <td>jpn25afB.gif</td>\n      <td>24</td>\n    </tr>\n    <tr>\n      <th>25</th>\n      <td>Japan</td>\n      <td>Air</td>\n      <td>Navy</td>\n      <td>10</td>\n      <td>10</td>\n      <td>5.0</td>\n      <td>3.0</td>\n      <td>5.0</td>\n      <td>False</td>\n      <td>26 AF</td>\n      <td>jpn26afF.gif</td>\n      <td>jpn26afB.gif</td>\n      <td>25</td>\n    </tr>\n    <tr>\n      <th>26</th>\n      <td>Japan</td>\n      <td>Air</td>\n      <td>Navy</td>\n      <td>10</td>\n      <td>10</td>\n      <td>5.0</td>\n      <td>3.0</td>\n      <td>5.0</td>\n      <td>False</td>\n      <td>27 AF</td>\n      <td>jpn27afF.gif</td>\n      <td>jpn27afB.gif</td>\n      <td>26</td>\n    </tr>\n    <tr>\n      <th>27</th>\n      <td>Japan</td>\n      <td>Air</td>\n      <td>Navy</td>\n      <td>10</td>\n      <td>10</td>\n      <td>5.0</td>\n      <td>3.0</td>\n      <td>5.0</td>\n      <td>False</td>\n      <td>28 AF</td>\n      <td>jpn28afF.gif</td>\n      <td>jpn28afB.gif</td>\n      <td>27</td>\n    </tr>\n    <tr>\n      <th>28</th>\n      <td>Japan</td>\n      <td>Air</td>\n      <td>Navy</td>\n      <td>8</td>\n      <td>10</td>\n      <td>4.0</td>\n      <td>3.0</td>\n      <td>5.0</td>\n      <td>False</td>\n      <td>50 AF</td>\n      <td>jpn50afF.gif</td>\n      <td>jpn50afB.gif</td>\n      <td>28</td>\n    </tr>\n    <tr>\n      <th>29</th>\n      <td>Japan</td>\n      <td>Air</td>\n      <td>Navy</td>\n      <td>8</td>\n      <td>10</td>\n      <td>4.0</td>\n      <td>3.0</td>\n      <td>5.0</td>\n      <td>False</td>\n      <td>51 AF</td>\n      <td>jpn51afF.gif</td>\n      <td>jpn51afB.gif</td>\n      <td>29</td>\n    </tr>\n    <tr>\n      <th>30</th>\n      <td>Japan</td>\n      <td>Air</td>\n      <td>Navy</td>\n      <td>8</td>\n      <td>10</td>\n      <td>4.0</td>\n      <td>3.0</td>\n      <td>5.0</td>\n      <td>False</td>\n      <td>61 AF</td>\n      <td>jpn61afF.gif</td>\n      <td>jpn61afB.gif</td>\n      <td>30</td>\n    </tr>\n    <tr>\n      <th>31</th>\n      <td>Japan</td>\n      <td>Air</td>\n      <td>Navy</td>\n      <td>8</td>\n      <td>10</td>\n      <td>4.0</td>\n      <td>3.0</td>\n      <td>5.0</td>\n      <td>False</td>\n      <td>62 AF</td>\n      <td>jpn62afF.gif</td>\n      <td>jpn62afB.gif</td>\n      <td>31</td>\n    </tr>\n    <tr>\n      <th>92</th>\n      <td>Japan</td>\n      <td>Naval</td>\n      <td>Navy</td>\n      <td>12</td>\n      <td>12</td>\n      <td>8.0</td>\n      <td>3.0</td>\n      <td>NaN</td>\n      <td>NaN</td>\n      <td>Akagi (CV)</td>\n      <td>AkagiF.gif</td>\n      <td>AkagiB.gif</td>\n      <td>92</td>\n    </tr>\n    <tr>\n      <th>93</th>\n      <td>Japan</td>\n      <td>Naval</td>\n      <td>Navy</td>\n      <td>10</td>\n      <td>12</td>\n      <td>7.0</td>\n      <td>3.0</td>\n      <td>NaN</td>\n      <td>NaN</td>\n      <td>Soryu (CV)</td>\n      <td>SoryuF.gif</td>\n      <td>SoryuB.gif</td>\n      <td>93</td>\n    </tr>\n    <tr>\n      <th>94</th>\n      <td>Japan</td>\n      <td>Naval</td>\n      <td>Navy</td>\n      <td>10</td>\n      <td>12</td>\n      <td>7.0</td>\n      <td>3.0</td>\n      <td>NaN</td>\n      <td>NaN</td>\n      <td>Taiho (CV)</td>\n      <td>TaihoF.gif</td>\n      <td>TaihoB.gif</td>\n      <td>94</td>\n    </tr>\n    <tr>\n      <th>95</th>\n      <td>Japan</td>\n      <td>Naval</td>\n      <td>Navy</td>\n      <td>14</td>\n      <td>12</td>\n      <td>9.0</td>\n      <td>3.0</td>\n      <td>NaN</td>\n      <td>NaN</td>\n      <td>Shokaku (CV)</td>\n      <td>shokakuF.gif</td>\n      <td>shokakuB.gif</td>\n      <td>95</td>\n    </tr>\n    <tr>\n      <th>96</th>\n      <td>Japan</td>\n      <td>Naval</td>\n      <td>Navy</td>\n      <td>17</td>\n      <td>14</td>\n      <td>9.0</td>\n      <td>NaN</td>\n      <td>NaN</td>\n      <td>NaN</td>\n      <td>Hiei (BB)</td>\n      <td>HieiF.gif</td>\n      <td>HieiB.gif</td>\n      <td>96</td>\n    </tr>\n    <tr>\n      <th>97</th>\n      <td>Japan</td>\n      <td>Naval</td>\n      <td>Navy</td>\n      <td>20</td>\n      <td>14</td>\n      <td>10.0</td>\n      <td>NaN</td>\n      <td>NaN</td>\n      <td>NaN</td>\n      <td>Nagato (BB)</td>\n      <td>nagatoF.gif</td>\n      <td>nagatoB.gif</td>\n      <td>97</td>\n    </tr>\n    <tr>\n      <th>98</th>\n      <td>Japan</td>\n      <td>Naval</td>\n      <td>Navy</td>\n      <td>8</td>\n      <td>8</td>\n      <td>6.0</td>\n      <td>3.0</td>\n      <td>NaN</td>\n      <td>NaN</td>\n      <td>Zuiho (CVL)</td>\n      <td>zuihoF.gif</td>\n      <td>zuihoB.gif</td>\n      <td>98</td>\n    </tr>\n    <tr>\n      <th>99</th>\n      <td>Japan</td>\n      <td>Naval</td>\n      <td>Navy</td>\n      <td>8</td>\n      <td>8</td>\n      <td>6.0</td>\n      <td>3.0</td>\n      <td>NaN</td>\n      <td>NaN</td>\n      <td>Junyo (CVL)</td>\n      <td>junyoF.gif</td>\n      <td>junyoB.gif</td>\n      <td>99</td>\n    </tr>\n    <tr>\n      <th>100</th>\n      <td>Japan</td>\n      <td>Naval</td>\n      <td>Navy</td>\n      <td>8</td>\n      <td>8</td>\n      <td>6.0</td>\n      <td>3.0</td>\n      <td>NaN</td>\n      <td>NaN</td>\n      <td>Kaiyo (CVL)</td>\n      <td>kaiyoF.gif</td>\n      <td>kaiyoB.gif</td>\n      <td>100</td>\n    </tr>\n    <tr>\n      <th>101</th>\n      <td>Japan</td>\n      <td>Naval</td>\n      <td>Navy</td>\n      <td>8</td>\n      <td>8</td>\n      <td>6.0</td>\n      <td>3.0</td>\n      <td>NaN</td>\n      <td>NaN</td>\n      <td>Amagi (CVL)</td>\n      <td>AmagiF.gif</td>\n      <td>amagiB.gif</td>\n      <td>101</td>\n    </tr>\n    <tr>\n      <th>102</th>\n      <td>Japan</td>\n      <td>Naval</td>\n      <td>Navy</td>\n      <td>13</td>\n      <td>14</td>\n      <td>7.0</td>\n      <td>NaN</td>\n      <td>NaN</td>\n      <td>NaN</td>\n      <td>Kongo (BB)</td>\n      <td>kongo2F.gif</td>\n      <td>kongo2B.gif</td>\n      <td>102</td>\n    </tr>\n    <tr>\n      <th>103</th>\n      <td>Japan</td>\n      <td>Naval</td>\n      <td>Navy</td>\n      <td>12</td>\n      <td>10</td>\n      <td>7.0</td>\n      <td>NaN</td>\n      <td>NaN</td>\n      <td>NaN</td>\n      <td>Aoba (CA)</td>\n      <td>aobaF.gif</td>\n      <td>aobaB.gif</td>\n      <td>103</td>\n    </tr>\n    <tr>\n      <th>104</th>\n      <td>Japan</td>\n      <td>Naval</td>\n      <td>Navy</td>\n      <td>12</td>\n      <td>10</td>\n      <td>7.0</td>\n      <td>NaN</td>\n      <td>NaN</td>\n      <td>NaN</td>\n      <td>Takao (CA)</td>\n      <td>TakaoF.gif</td>\n      <td>TakaoB.gif</td>\n      <td>104</td>\n    </tr>\n    <tr>\n      <th>105</th>\n      <td>Japan</td>\n      <td>Naval</td>\n      <td>Navy</td>\n      <td>8</td>\n      <td>8</td>\n      <td>4.0</td>\n      <td>NaN</td>\n      <td>NaN</td>\n      <td>NaN</td>\n      <td>Kamikaze (APD)</td>\n      <td>kamikazeF.gif</td>\n      <td>kamikazeB.gif</td>\n      <td>105</td>\n    </tr>\n    <tr>\n      <th>106</th>\n      <td>Japan</td>\n      <td>Naval</td>\n      <td>Navy</td>\n      <td>4</td>\n      <td>8</td>\n      <td>3.0</td>\n      <td>NaN</td>\n      <td>NaN</td>\n      <td>NaN</td>\n      <td>Tenryu (CL)</td>\n      <td>TenyruF.gif</td>\n      <td>TenyruB.gif</td>\n      <td>106</td>\n    </tr>\n    <tr>\n      <th>107</th>\n      <td>Japan</td>\n      <td>Naval</td>\n      <td>Navy</td>\n      <td>10</td>\n      <td>10</td>\n      <td>6.0</td>\n      <td>NaN</td>\n      <td>NaN</td>\n      <td>NaN</td>\n      <td>Nachi (CA)</td>\n      <td>NachiF.gif</td>\n      <td>NachiB.gif</td>\n      <td>107</td>\n    </tr>\n    <tr>\n      <th>108</th>\n      <td>Japan</td>\n      <td>Naval</td>\n      <td>Navy</td>\n      <td>6</td>\n      <td>8</td>\n      <td>3.0</td>\n      <td>3.0</td>\n      <td>NaN</td>\n      <td>NaN</td>\n      <td>Ryujo</td>\n      <td>RyuhoF.gif</td>\n      <td>RyuhoB.gif</td>\n      <td>108</td>\n    </tr>\n    <tr>\n      <th>109</th>\n      <td>Japan</td>\n      <td>Naval</td>\n      <td>Navy</td>\n      <td>18</td>\n      <td>18</td>\n      <td>9.0</td>\n      <td>NaN</td>\n      <td>NaN</td>\n      <td>NaN</td>\n      <td>Yamato (BB)</td>\n      <td>yamatoF.gif</td>\n      <td>yamatoB.gif</td>\n      <td>109</td>\n    </tr>\n  </tbody>\n</table>"
     },
     "metadata": {},
     "output_type": "display_data"
    },
    {
     "name": "stdout",
     "output_type": "stream",
     "text": [
      "Unit: Wasp (CV), Front: 12, Back: 8.0, Defense: 12, CF: 12, Loss Delta: 4.0, Range: 2.0\n",
      "Unit: Duke of York (BB), Front: 20, Back: 10.0, Defense: 16, CF: 20, Loss Delta: 10.0, Range: nan\n",
      "Allied CF Total: 32\n",
      "\n",
      "Unit: Shokaku (CV), Front: 14, Back: 9.0, Defense: 12, CF: 14, Loss Delta: 5.0, Range: 3.0\n",
      "Unit: Nagato (BB), Front: 20, Back: 10.0, Defense: 14, CF: 20, Loss Delta: 10.0, Range: nan\n",
      "Japan CF Total: 34\n"
     ]
    }
   ]
  },
  {
   "cell_type": "code",
   "execution_count": 3,
   "outputs": [
    {
     "data": {
      "text/plain": "    allied_die_roll  allied_result  allied_losses  allied_damage_applied  \\\n0                 0           0.25              9                      0   \n1                 0           0.25              9                      0   \n2                 0           0.25              9                      0   \n3                 0           0.25             17                     16   \n4                 0           0.25             17                     16   \n..              ...            ...            ...                    ...   \n95                9           1.00             17                     16   \n96                9           1.00             34                     28   \n97                9           1.00             34                     28   \n98                9           1.00             34                     28   \n99                9           1.00             34                     32   \n\n    allied_remaining_cf  japan_die_roll  japan_result  japan_losses  \\\n0                    32               0          0.25             8   \n1                    32               1          0.25             8   \n2                    32               2          0.25             8   \n3                    22               3          0.50             8   \n4                    22               4          0.50             8   \n..                  ...             ...           ...           ...   \n95                   22               5          0.50            32   \n96                   18               6          1.00            32   \n97                   18               7          1.00            32   \n98                   18               8          1.00            32   \n99                   12               9          1.00            32   \n\n    japan_damage_applied  japan_remaining_cf battle_winner  \n0                      0                  34         JAPAN  \n1                      0                  34         JAPAN  \n2                      0                  34         JAPAN  \n3                      0                  34         JAPAN  \n4                      0                  34         JAPAN  \n..                   ...                 ...           ...  \n95                    28                  14        ALLIES  \n96                    28                  14        ALLIES  \n97                    28                  14        ALLIES  \n98                    28                  14        ALLIES  \n99                    28                  14         JAPAN  \n\n[100 rows x 11 columns]",
      "text/html": "<div>\n<style scoped>\n    .dataframe tbody tr th:only-of-type {\n        vertical-align: middle;\n    }\n\n    .dataframe tbody tr th {\n        vertical-align: top;\n    }\n\n    .dataframe thead th {\n        text-align: right;\n    }\n</style>\n<table border=\"1\" class=\"dataframe\">\n  <thead>\n    <tr style=\"text-align: right;\">\n      <th></th>\n      <th>allied_die_roll</th>\n      <th>allied_result</th>\n      <th>allied_losses</th>\n      <th>allied_damage_applied</th>\n      <th>allied_remaining_cf</th>\n      <th>japan_die_roll</th>\n      <th>japan_result</th>\n      <th>japan_losses</th>\n      <th>japan_damage_applied</th>\n      <th>japan_remaining_cf</th>\n      <th>battle_winner</th>\n    </tr>\n  </thead>\n  <tbody>\n    <tr>\n      <th>0</th>\n      <td>0</td>\n      <td>0.25</td>\n      <td>9</td>\n      <td>0</td>\n      <td>32</td>\n      <td>0</td>\n      <td>0.25</td>\n      <td>8</td>\n      <td>0</td>\n      <td>34</td>\n      <td>JAPAN</td>\n    </tr>\n    <tr>\n      <th>1</th>\n      <td>0</td>\n      <td>0.25</td>\n      <td>9</td>\n      <td>0</td>\n      <td>32</td>\n      <td>1</td>\n      <td>0.25</td>\n      <td>8</td>\n      <td>0</td>\n      <td>34</td>\n      <td>JAPAN</td>\n    </tr>\n    <tr>\n      <th>2</th>\n      <td>0</td>\n      <td>0.25</td>\n      <td>9</td>\n      <td>0</td>\n      <td>32</td>\n      <td>2</td>\n      <td>0.25</td>\n      <td>8</td>\n      <td>0</td>\n      <td>34</td>\n      <td>JAPAN</td>\n    </tr>\n    <tr>\n      <th>3</th>\n      <td>0</td>\n      <td>0.25</td>\n      <td>17</td>\n      <td>16</td>\n      <td>22</td>\n      <td>3</td>\n      <td>0.50</td>\n      <td>8</td>\n      <td>0</td>\n      <td>34</td>\n      <td>JAPAN</td>\n    </tr>\n    <tr>\n      <th>4</th>\n      <td>0</td>\n      <td>0.25</td>\n      <td>17</td>\n      <td>16</td>\n      <td>22</td>\n      <td>4</td>\n      <td>0.50</td>\n      <td>8</td>\n      <td>0</td>\n      <td>34</td>\n      <td>JAPAN</td>\n    </tr>\n    <tr>\n      <th>...</th>\n      <td>...</td>\n      <td>...</td>\n      <td>...</td>\n      <td>...</td>\n      <td>...</td>\n      <td>...</td>\n      <td>...</td>\n      <td>...</td>\n      <td>...</td>\n      <td>...</td>\n      <td>...</td>\n    </tr>\n    <tr>\n      <th>95</th>\n      <td>9</td>\n      <td>1.00</td>\n      <td>17</td>\n      <td>16</td>\n      <td>22</td>\n      <td>5</td>\n      <td>0.50</td>\n      <td>32</td>\n      <td>28</td>\n      <td>14</td>\n      <td>ALLIES</td>\n    </tr>\n    <tr>\n      <th>96</th>\n      <td>9</td>\n      <td>1.00</td>\n      <td>34</td>\n      <td>28</td>\n      <td>18</td>\n      <td>6</td>\n      <td>1.00</td>\n      <td>32</td>\n      <td>28</td>\n      <td>14</td>\n      <td>ALLIES</td>\n    </tr>\n    <tr>\n      <th>97</th>\n      <td>9</td>\n      <td>1.00</td>\n      <td>34</td>\n      <td>28</td>\n      <td>18</td>\n      <td>7</td>\n      <td>1.00</td>\n      <td>32</td>\n      <td>28</td>\n      <td>14</td>\n      <td>ALLIES</td>\n    </tr>\n    <tr>\n      <th>98</th>\n      <td>9</td>\n      <td>1.00</td>\n      <td>34</td>\n      <td>28</td>\n      <td>18</td>\n      <td>8</td>\n      <td>1.00</td>\n      <td>32</td>\n      <td>28</td>\n      <td>14</td>\n      <td>ALLIES</td>\n    </tr>\n    <tr>\n      <th>99</th>\n      <td>9</td>\n      <td>1.00</td>\n      <td>34</td>\n      <td>32</td>\n      <td>12</td>\n      <td>9</td>\n      <td>1.00</td>\n      <td>32</td>\n      <td>28</td>\n      <td>14</td>\n      <td>JAPAN</td>\n    </tr>\n  </tbody>\n</table>\n<p>100 rows × 11 columns</p>\n</div>"
     },
     "execution_count": 3,
     "metadata": {},
     "output_type": "execute_result"
    }
   ],
   "source": [
    "results"
   ],
   "metadata": {
    "collapsed": false,
    "pycharm": {
     "name": "#%%\n"
    }
   }
  },
  {
   "cell_type": "code",
   "execution_count": 4,
   "outputs": [],
   "source": [
    "df_winner = results.groupby(['battle_winner']).agg(winner_count=('battle_winner', 'count'))"
   ],
   "metadata": {
    "collapsed": false,
    "pycharm": {
     "name": "#%%\n"
    }
   }
  },
  {
   "cell_type": "code",
   "execution_count": 5,
   "outputs": [
    {
     "data": {
      "text/plain": "               winner_count\nbattle_winner              \nALLIES                   36\nJAPAN                    64",
      "text/html": "<div>\n<style scoped>\n    .dataframe tbody tr th:only-of-type {\n        vertical-align: middle;\n    }\n\n    .dataframe tbody tr th {\n        vertical-align: top;\n    }\n\n    .dataframe thead th {\n        text-align: right;\n    }\n</style>\n<table border=\"1\" class=\"dataframe\">\n  <thead>\n    <tr style=\"text-align: right;\">\n      <th></th>\n      <th>winner_count</th>\n    </tr>\n    <tr>\n      <th>battle_winner</th>\n      <th></th>\n    </tr>\n  </thead>\n  <tbody>\n    <tr>\n      <th>ALLIES</th>\n      <td>36</td>\n    </tr>\n    <tr>\n      <th>JAPAN</th>\n      <td>64</td>\n    </tr>\n  </tbody>\n</table>\n</div>"
     },
     "execution_count": 5,
     "metadata": {},
     "output_type": "execute_result"
    }
   ],
   "source": [
    "df_winner"
   ],
   "metadata": {
    "collapsed": false,
    "pycharm": {
     "name": "#%%\n"
    }
   }
  },
  {
   "cell_type": "code",
   "execution_count": 6,
   "outputs": [],
   "source": [
    "df_losses_allies = results.groupby(['allied_damage_applied'], as_index=False).agg(\n",
    "    damage_count=('allied_damage_applied', 'count'))\n",
    "\n",
    "df_losses_allies = df_losses_allies.rename(columns={'allied_damage_applied': 'damage_applied'})\n",
    "df_losses_allies['player'] = enums.Player.ALLIES.name\n",
    "\n",
    "df_losses_japan = results.groupby(['japan_damage_applied'], as_index=False).agg(\n",
    "    damage_count=('japan_damage_applied', 'count'))\n",
    "\n",
    "df_losses_japan = df_losses_japan.rename(columns={'japan_damage_applied': 'damage_applied'})\n",
    "df_losses_japan['player'] = enums.Player.JAPAN.name\n",
    "\n",
    "df_losses = pd.concat([df_losses_allies, df_losses_japan], ignore_index=True)"
   ],
   "metadata": {
    "collapsed": false,
    "pycharm": {
     "name": "#%%\n"
    }
   }
  },
  {
   "cell_type": "code",
   "execution_count": 7,
   "outputs": [
    {
     "data": {
      "text/plain": "   damage_applied  damage_count  player\n0               0            30  ALLIES\n1              16            30  ALLIES\n2              28            30  ALLIES\n3              32            10  ALLIES\n4               0            30   JAPAN\n5              14            30   JAPAN\n6              26            30   JAPAN\n7              28            10   JAPAN",
      "text/html": "<div>\n<style scoped>\n    .dataframe tbody tr th:only-of-type {\n        vertical-align: middle;\n    }\n\n    .dataframe tbody tr th {\n        vertical-align: top;\n    }\n\n    .dataframe thead th {\n        text-align: right;\n    }\n</style>\n<table border=\"1\" class=\"dataframe\">\n  <thead>\n    <tr style=\"text-align: right;\">\n      <th></th>\n      <th>damage_applied</th>\n      <th>damage_count</th>\n      <th>player</th>\n    </tr>\n  </thead>\n  <tbody>\n    <tr>\n      <th>0</th>\n      <td>0</td>\n      <td>30</td>\n      <td>ALLIES</td>\n    </tr>\n    <tr>\n      <th>1</th>\n      <td>16</td>\n      <td>30</td>\n      <td>ALLIES</td>\n    </tr>\n    <tr>\n      <th>2</th>\n      <td>28</td>\n      <td>30</td>\n      <td>ALLIES</td>\n    </tr>\n    <tr>\n      <th>3</th>\n      <td>32</td>\n      <td>10</td>\n      <td>ALLIES</td>\n    </tr>\n    <tr>\n      <th>4</th>\n      <td>0</td>\n      <td>30</td>\n      <td>JAPAN</td>\n    </tr>\n    <tr>\n      <th>5</th>\n      <td>14</td>\n      <td>30</td>\n      <td>JAPAN</td>\n    </tr>\n    <tr>\n      <th>6</th>\n      <td>26</td>\n      <td>30</td>\n      <td>JAPAN</td>\n    </tr>\n    <tr>\n      <th>7</th>\n      <td>28</td>\n      <td>10</td>\n      <td>JAPAN</td>\n    </tr>\n  </tbody>\n</table>\n</div>"
     },
     "execution_count": 7,
     "metadata": {},
     "output_type": "execute_result"
    }
   ],
   "source": [
    "df_losses"
   ],
   "metadata": {
    "collapsed": false,
    "pycharm": {
     "name": "#%%\n"
    }
   }
  },
  {
   "cell_type": "code",
   "execution_count": 8,
   "outputs": [],
   "source": [
    "df_pivot = pd.pivot_table(df_losses, index=['player'], columns=['damage_applied'], values=['damage_count'], aggfunc=sum, fill_value=0)"
   ],
   "metadata": {
    "collapsed": false,
    "pycharm": {
     "name": "#%%\n"
    }
   }
  },
  {
   "cell_type": "code",
   "execution_count": 9,
   "outputs": [
    {
     "data": {
      "text/plain": "               damage_count                    \ndamage_applied           0   14  16  26  28  32\nplayer                                         \nALLIES                   30   0  30   0  30  10\nJAPAN                    30  30   0  30  10   0",
      "text/html": "<div>\n<style scoped>\n    .dataframe tbody tr th:only-of-type {\n        vertical-align: middle;\n    }\n\n    .dataframe tbody tr th {\n        vertical-align: top;\n    }\n\n    .dataframe thead tr th {\n        text-align: left;\n    }\n\n    .dataframe thead tr:last-of-type th {\n        text-align: right;\n    }\n</style>\n<table border=\"1\" class=\"dataframe\">\n  <thead>\n    <tr>\n      <th></th>\n      <th colspan=\"6\" halign=\"left\">damage_count</th>\n    </tr>\n    <tr>\n      <th>damage_applied</th>\n      <th>0</th>\n      <th>14</th>\n      <th>16</th>\n      <th>26</th>\n      <th>28</th>\n      <th>32</th>\n    </tr>\n    <tr>\n      <th>player</th>\n      <th></th>\n      <th></th>\n      <th></th>\n      <th></th>\n      <th></th>\n      <th></th>\n    </tr>\n  </thead>\n  <tbody>\n    <tr>\n      <th>ALLIES</th>\n      <td>30</td>\n      <td>0</td>\n      <td>30</td>\n      <td>0</td>\n      <td>30</td>\n      <td>10</td>\n    </tr>\n    <tr>\n      <th>JAPAN</th>\n      <td>30</td>\n      <td>30</td>\n      <td>0</td>\n      <td>30</td>\n      <td>10</td>\n      <td>0</td>\n    </tr>\n  </tbody>\n</table>\n</div>"
     },
     "execution_count": 9,
     "metadata": {},
     "output_type": "execute_result"
    }
   ],
   "source": [
    "df_pivot"
   ],
   "metadata": {
    "collapsed": false,
    "pycharm": {
     "name": "#%%\n"
    }
   }
  },
  {
   "cell_type": "code",
   "execution_count": 10,
   "outputs": [
    {
     "data": {
      "text/plain": "0     0\n1    14\n2    16\n3    26\n4    28\n5    32\nName: 0, dtype: int64"
     },
     "execution_count": 10,
     "metadata": {},
     "output_type": "execute_result"
    }
   ],
   "source": [
    "x_values = []\n",
    "for x in df_pivot.columns:\n",
    "    x_values.append(x[1])\n",
    "\n",
    "pd.DataFrame(x_values)[0]"
   ],
   "metadata": {
    "collapsed": false,
    "pycharm": {
     "name": "#%%\n"
    }
   }
  },
  {
   "cell_type": "code",
   "execution_count": 11,
   "outputs": [
    {
     "data": {
      "text/plain": "0    0.3\n1    0.0\n2    0.3\n3    0.0\n4    0.3\n5    0.1\nName: 0, dtype: float64"
     },
     "execution_count": 11,
     "metadata": {},
     "output_type": "execute_result"
    }
   ],
   "source": [
    "pd.DataFrame(df_pivot.values[0])[0].apply(lambda z: z / 100)"
   ],
   "metadata": {
    "collapsed": false,
    "pycharm": {
     "name": "#%%\n"
    }
   }
  },
  {
   "cell_type": "code",
   "execution_count": 12,
   "outputs": [
    {
     "data": {
      "text/plain": "{1}"
     },
     "execution_count": 12,
     "metadata": {},
     "output_type": "execute_result"
    }
   ],
   "source": [
    "set_a = set([1, 2, 3, 4])\n",
    "set_b = set([2, 3, 4])\n",
    "set_a.symmetric_difference(set_b)"
   ],
   "metadata": {
    "collapsed": false,
    "pycharm": {
     "name": "#%%\n"
    }
   }
  },
  {
   "cell_type": "code",
   "execution_count": 17,
   "outputs": [
    {
     "data": {
      "text/plain": "{114, 124}"
     },
     "execution_count": 17,
     "metadata": {},
     "output_type": "execute_result"
    }
   ],
   "source": [
    "unit_ids = set(map(lambda x: x.unit_id, allied_forces))\n",
    "unit_ids"
   ],
   "metadata": {
    "collapsed": false,
    "pycharm": {
     "name": "#%%\n"
    }
   }
  },
  {
   "cell_type": "code",
   "execution_count": 22,
   "outputs": [
    {
     "data": {
      "text/plain": "0"
     },
     "execution_count": 22,
     "metadata": {},
     "output_type": "execute_result"
    }
   ],
   "source": [
    "len(unit_ids)"
   ],
   "metadata": {
    "collapsed": false,
    "pycharm": {
     "name": "#%%\n"
    }
   }
  },
  {
   "cell_type": "code",
   "execution_count": 21,
   "outputs": [
    {
     "data": {
      "text/plain": "124"
     },
     "execution_count": 21,
     "metadata": {},
     "output_type": "execute_result"
    }
   ],
   "source": [
    "unit_ids.pop()"
   ],
   "metadata": {
    "collapsed": false,
    "pycharm": {
     "name": "#%%\n"
    }
   }
  },
  {
   "cell_type": "code",
   "execution_count": 25,
   "outputs": [
    {
     "name": "stdout",
     "output_type": "stream",
     "text": [
      "10\n"
     ]
    }
   ],
   "source": [
    "child = {'props': {'id': 10}, 'type': 2, 'namespace': 3}\n",
    "print(child['props']['id'])"
   ],
   "metadata": {
    "collapsed": false,
    "pycharm": {
     "name": "#%%\n"
    }
   }
  },
  {
   "cell_type": "code",
   "execution_count": null,
   "outputs": [],
   "source": [],
   "metadata": {
    "collapsed": false,
    "pycharm": {
     "name": "#%%\n"
    }
   }
  }
 ],
 "metadata": {
  "kernelspec": {
   "display_name": "Python 3",
   "language": "python",
   "name": "python3"
  },
  "language_info": {
   "codemirror_mode": {
    "name": "ipython",
    "version": 2
   },
   "file_extension": ".py",
   "mimetype": "text/x-python",
   "name": "python",
   "nbconvert_exporter": "python",
   "pygments_lexer": "ipython2",
   "version": "2.7.6"
  }
 },
 "nbformat": 4,
 "nbformat_minor": 0
}