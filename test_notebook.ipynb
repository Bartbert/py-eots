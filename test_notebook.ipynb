{
 "cells": [
  {
   "cell_type": "code",
   "execution_count": 2,
   "metadata": {
    "collapsed": true,
    "pycharm": {
     "name": "#%%\n"
    }
   },
   "outputs": [
    {
     "name": "stdout",
     "output_type": "stream",
     "text": [
      "Unit: Belleau Wood (CVL), Front: 10, Back: 7.0, Defense: 10, CF: 7, Loss Delta: 7.0, Range: 2.0\n",
      "Unit: Cowpens (CVL), Front: 10, Back: 7.0, Defense: 10, CF: 10, Loss Delta: 3.0, Range: 2.0\n",
      "Unit: San Jacinto (CVL), Front: 10, Back: 7.0, Defense: 10, CF: 10, Loss Delta: 3.0, Range: 2.0\n",
      "Unit: Bataan (CVL), Front: 10, Back: 7.0, Defense: 10, CF: 10, Loss Delta: 3.0, Range: 2.0\n",
      "Unit: Bunker Hill (CV), Front: 14, Back: 10.0, Defense: 14, CF: 14, Loss Delta: 4.0, Range: 2.0\n",
      "Allied CF Total: 51\n",
      "\n",
      "Unit: 61 AF, Front: 8, Back: 4.0, Defense: 10, CF: 8, Loss Delta: 4.0, Range: 3.0\n",
      "Unit: 62 AF, Front: 8, Back: 4.0, Defense: 10, CF: 8, Loss Delta: 4.0, Range: 3.0\n",
      "Unit: Akagi (CV), Front: 12, Back: 8.0, Defense: 12, CF: 12, Loss Delta: 4.0, Range: 3.0\n",
      "Unit: Soryu (CV), Front: 10, Back: 7.0, Defense: 12, CF: 7, Loss Delta: 7.0, Range: 3.0\n",
      "Unit: Taiho (CV), Front: 10, Back: 7.0, Defense: 12, CF: 10, Loss Delta: 3.0, Range: 3.0\n",
      "Japan CF Total: 45\n"
     ]
    }
   ],
   "source": [
    "import pandas as pd\n",
    "from combat_unit import CombatUnit\n",
    "from battle_analyzer import BattleAnalyzer\n",
    "import enums\n",
    "\n",
    "units = pd.read_csv('data/unit_data.csv')\n",
    "units['unit_id'] = units.index\n",
    "\n",
    "an_units = units.loc[units['unit_type'] != 'Ground']\n",
    "\n",
    "allied_units = an_units.loc[an_units['nationality'] != 'Japan']\n",
    "japan_units = an_units.loc[an_units['nationality'] == 'Japan']\n",
    "\n",
    "allied_unit_list = [CombatUnit(**kwargs) for kwargs in allied_units.to_dict(orient='records')]\n",
    "japan_unit_list = [CombatUnit(**kwargs) for kwargs in japan_units.to_dict(orient='records')]\n",
    "\n",
    "allied_forces = allied_unit_list[50:55]\n",
    "allied_forces[0].is_flipped = True\n",
    "\n",
    "japan_forces = japan_unit_list[23:28]\n",
    "japan_forces[3].is_flipped = True\n",
    "for unit in allied_forces:\n",
    "    print(\n",
    "        f'Unit: {unit.unit_name}, Front: {unit.attack_front}, Back: {unit.attack_back}, Defense: {unit.defense}, '\n",
    "        f'CF: {unit.combat_factor()}, Loss Delta: {unit.loss_delta()}, Range: {unit.move_range}')\n",
    "\n",
    "allied_forces_cf = sum(map(lambda x: x.combat_factor(), allied_forces))\n",
    "print(f'Allied CF Total: {allied_forces_cf}')\n",
    "print('')\n",
    "\n",
    "for unit in japan_forces:\n",
    "    print(\n",
    "        f'Unit: {unit.unit_name}, Front: {unit.attack_front}, Back: {unit.attack_back}, Defense: {unit.defense}, '\n",
    "        f'CF: {unit.combat_factor()}, Loss Delta: {unit.loss_delta()}, Range: {unit.move_range}')\n",
    "\n",
    "japan_forces_cf = sum(map(lambda x: x.combat_factor(), japan_forces))\n",
    "print(f'Japan CF Total: {japan_forces_cf}')\n",
    "\n",
    "analyzer = BattleAnalyzer(intel_condition=enums.IntelCondition.SURPRISE, reaction_player=enums.Player.ALLIES,\n",
    "                          air_power_mod=enums.AirPowerModifier.Y1942, allied_ec_mod=0, japan_ec_mod=0)\n",
    "\n",
    "results = analyzer.analyze_battle(allied_forces, japan_forces)"
   ]
  },
  {
   "cell_type": "code",
   "execution_count": 3,
   "outputs": [
    {
     "data": {
      "text/plain": "    allied_die_roll  allied_result  allied_losses  allied_damage_applied  \\\n0                 0           0.25             23                     14   \n1                 0           0.25             23                     14   \n2                 0           0.25             23                     14   \n3                 0           0.25             45                     44   \n4                 0           0.25             45                     44   \n..              ...            ...            ...                    ...   \n95                9           1.00             45                     44   \n96                9           1.00             45                     44   \n97                9           1.00             45                     44   \n98                9           1.00             45                     44   \n99                9           1.00             45                     38   \n\n    allied_remaining_cf  japan_die_roll  japan_result  japan_losses  \\\n0                    47               0           0.5            12   \n1                    47               1           0.5            12   \n2                    47               2           0.5            12   \n3                    38               3           1.0            10   \n4                    38               4           1.0            10   \n..                  ...             ...           ...           ...   \n95                   38               5           1.0            38   \n96                   38               6           1.0            38   \n97                   38               7           1.0            38   \n98                   38               8           1.0            38   \n99                   30               9           1.0            30   \n\n    japan_damage_applied  japan_remaining_cf battle_winner  \n0                     10                  41        ALLIES  \n1                     10                  41        ALLIES  \n2                     10                  41        ALLIES  \n3                     10                  41         JAPAN  \n4                     10                  41         JAPAN  \n..                   ...                 ...           ...  \n95                    32                  30        ALLIES  \n96                    32                  30        ALLIES  \n97                    32                  30        ALLIES  \n98                    32                  30        ALLIES  \n99                    22                  34         JAPAN  \n\n[100 rows x 11 columns]",
      "text/html": "<div>\n<style scoped>\n    .dataframe tbody tr th:only-of-type {\n        vertical-align: middle;\n    }\n\n    .dataframe tbody tr th {\n        vertical-align: top;\n    }\n\n    .dataframe thead th {\n        text-align: right;\n    }\n</style>\n<table border=\"1\" class=\"dataframe\">\n  <thead>\n    <tr style=\"text-align: right;\">\n      <th></th>\n      <th>allied_die_roll</th>\n      <th>allied_result</th>\n      <th>allied_losses</th>\n      <th>allied_damage_applied</th>\n      <th>allied_remaining_cf</th>\n      <th>japan_die_roll</th>\n      <th>japan_result</th>\n      <th>japan_losses</th>\n      <th>japan_damage_applied</th>\n      <th>japan_remaining_cf</th>\n      <th>battle_winner</th>\n    </tr>\n  </thead>\n  <tbody>\n    <tr>\n      <th>0</th>\n      <td>0</td>\n      <td>0.25</td>\n      <td>23</td>\n      <td>14</td>\n      <td>47</td>\n      <td>0</td>\n      <td>0.5</td>\n      <td>12</td>\n      <td>10</td>\n      <td>41</td>\n      <td>ALLIES</td>\n    </tr>\n    <tr>\n      <th>1</th>\n      <td>0</td>\n      <td>0.25</td>\n      <td>23</td>\n      <td>14</td>\n      <td>47</td>\n      <td>1</td>\n      <td>0.5</td>\n      <td>12</td>\n      <td>10</td>\n      <td>41</td>\n      <td>ALLIES</td>\n    </tr>\n    <tr>\n      <th>2</th>\n      <td>0</td>\n      <td>0.25</td>\n      <td>23</td>\n      <td>14</td>\n      <td>47</td>\n      <td>2</td>\n      <td>0.5</td>\n      <td>12</td>\n      <td>10</td>\n      <td>41</td>\n      <td>ALLIES</td>\n    </tr>\n    <tr>\n      <th>3</th>\n      <td>0</td>\n      <td>0.25</td>\n      <td>45</td>\n      <td>44</td>\n      <td>38</td>\n      <td>3</td>\n      <td>1.0</td>\n      <td>10</td>\n      <td>10</td>\n      <td>41</td>\n      <td>JAPAN</td>\n    </tr>\n    <tr>\n      <th>4</th>\n      <td>0</td>\n      <td>0.25</td>\n      <td>45</td>\n      <td>44</td>\n      <td>38</td>\n      <td>4</td>\n      <td>1.0</td>\n      <td>10</td>\n      <td>10</td>\n      <td>41</td>\n      <td>JAPAN</td>\n    </tr>\n    <tr>\n      <th>...</th>\n      <td>...</td>\n      <td>...</td>\n      <td>...</td>\n      <td>...</td>\n      <td>...</td>\n      <td>...</td>\n      <td>...</td>\n      <td>...</td>\n      <td>...</td>\n      <td>...</td>\n      <td>...</td>\n    </tr>\n    <tr>\n      <th>95</th>\n      <td>9</td>\n      <td>1.00</td>\n      <td>45</td>\n      <td>44</td>\n      <td>38</td>\n      <td>5</td>\n      <td>1.0</td>\n      <td>38</td>\n      <td>32</td>\n      <td>30</td>\n      <td>ALLIES</td>\n    </tr>\n    <tr>\n      <th>96</th>\n      <td>9</td>\n      <td>1.00</td>\n      <td>45</td>\n      <td>44</td>\n      <td>38</td>\n      <td>6</td>\n      <td>1.0</td>\n      <td>38</td>\n      <td>32</td>\n      <td>30</td>\n      <td>ALLIES</td>\n    </tr>\n    <tr>\n      <th>97</th>\n      <td>9</td>\n      <td>1.00</td>\n      <td>45</td>\n      <td>44</td>\n      <td>38</td>\n      <td>7</td>\n      <td>1.0</td>\n      <td>38</td>\n      <td>32</td>\n      <td>30</td>\n      <td>ALLIES</td>\n    </tr>\n    <tr>\n      <th>98</th>\n      <td>9</td>\n      <td>1.00</td>\n      <td>45</td>\n      <td>44</td>\n      <td>38</td>\n      <td>8</td>\n      <td>1.0</td>\n      <td>38</td>\n      <td>32</td>\n      <td>30</td>\n      <td>ALLIES</td>\n    </tr>\n    <tr>\n      <th>99</th>\n      <td>9</td>\n      <td>1.00</td>\n      <td>45</td>\n      <td>38</td>\n      <td>30</td>\n      <td>9</td>\n      <td>1.0</td>\n      <td>30</td>\n      <td>22</td>\n      <td>34</td>\n      <td>JAPAN</td>\n    </tr>\n  </tbody>\n</table>\n<p>100 rows × 11 columns</p>\n</div>"
     },
     "execution_count": 3,
     "metadata": {},
     "output_type": "execute_result"
    }
   ],
   "source": [
    "results"
   ],
   "metadata": {
    "collapsed": false,
    "pycharm": {
     "name": "#%%\n"
    }
   }
  },
  {
   "cell_type": "code",
   "execution_count": 4,
   "outputs": [],
   "source": [
    "df_winner = results.groupby(['battle_winner']).agg(winner_count = ('battle_winner', 'count'))"
   ],
   "metadata": {
    "collapsed": false,
    "pycharm": {
     "name": "#%%\n"
    }
   }
  },
  {
   "cell_type": "code",
   "execution_count": 5,
   "outputs": [
    {
     "data": {
      "text/plain": "               winner_count\nbattle_winner              \nALLIES                   54\nJAPAN                    46",
      "text/html": "<div>\n<style scoped>\n    .dataframe tbody tr th:only-of-type {\n        vertical-align: middle;\n    }\n\n    .dataframe tbody tr th {\n        vertical-align: top;\n    }\n\n    .dataframe thead th {\n        text-align: right;\n    }\n</style>\n<table border=\"1\" class=\"dataframe\">\n  <thead>\n    <tr style=\"text-align: right;\">\n      <th></th>\n      <th>winner_count</th>\n    </tr>\n    <tr>\n      <th>battle_winner</th>\n      <th></th>\n    </tr>\n  </thead>\n  <tbody>\n    <tr>\n      <th>ALLIES</th>\n      <td>54</td>\n    </tr>\n    <tr>\n      <th>JAPAN</th>\n      <td>46</td>\n    </tr>\n  </tbody>\n</table>\n</div>"
     },
     "execution_count": 5,
     "metadata": {},
     "output_type": "execute_result"
    }
   ],
   "source": [
    "df_winner"
   ],
   "metadata": {
    "collapsed": false,
    "pycharm": {
     "name": "#%%\n"
    }
   }
  },
  {
   "cell_type": "code",
   "execution_count": 7,
   "outputs": [
    {
     "data": {
      "text/plain": "<Player.JAPAN: 1>"
     },
     "execution_count": 7,
     "metadata": {},
     "output_type": "execute_result"
    }
   ],
   "source": [
    "enums.Player(1)"
   ],
   "metadata": {
    "collapsed": false,
    "pycharm": {
     "name": "#%%\n"
    }
   }
  },
  {
   "cell_type": "code",
   "execution_count": null,
   "outputs": [],
   "source": [],
   "metadata": {
    "collapsed": false,
    "pycharm": {
     "name": "#%%\n"
    }
   }
  }
 ],
 "metadata": {
  "kernelspec": {
   "display_name": "Python 3",
   "language": "python",
   "name": "python3"
  },
  "language_info": {
   "codemirror_mode": {
    "name": "ipython",
    "version": 2
   },
   "file_extension": ".py",
   "mimetype": "text/x-python",
   "name": "python",
   "nbconvert_exporter": "python",
   "pygments_lexer": "ipython2",
   "version": "2.7.6"
  }
 },
 "nbformat": 4,
 "nbformat_minor": 0
}